{
  "cells": [
    {
      "cell_type": "markdown",
      "metadata": {
        "id": "G3Vg-4L_Gf_9"
      },
      "source": [
        "<a href=\"https://colab.research.google.com/github/fralfaro/MAT281_2023/blob/main/docs/labs/lab_08.ipynb\" target=\"_parent\"><img src=\"https://colab.research.google.com/assets/colab-badge.svg\" alt=\"Open In Colab\"/></a>\n",
        "\n",
        "\n",
        "# MAT281 - Laboratorio N°08\n",
        "\n"
      ]
    },
    {
      "cell_type": "markdown",
      "metadata": {
        "id": "0PM3LfyHGgAC"
      },
      "source": [
        "<a id='p1'></a>\n",
        "## I.- Problema 01\n",
        "\n",
        "\n",
        "<img src=\"https://drive.google.com/uc?export=view&id=1ZAicRye9Ixj7jijCwNhU8Fhf6Rmjp2Z7\" width = \"200\" align=\"center\"/>\n",
        "\n",
        "El conjunto de datos se denomina `vehiculos_procesado_con_grupos.csv`, el cual contine algunas de las características más importante de un vehículo.\n",
        "\n",
        "En este ejercicio se tiene como objetivo, es poder clasificar los distintos vehículos basados en las cracterísticas que se presentan a continuación. La dificultad de este ejercicio radíca en que ahora tenemos variables numéricas y variables categóricas.\n",
        "\n",
        "Lo primero será cargar el conjunto de datos:"
      ]
    },
    {
      "cell_type": "code",
      "execution_count": 1,
      "metadata": {
        "id": "gkNHTo1JGgAD"
      },
      "outputs": [],
      "source": [
        "import numpy as np\n",
        "import pandas as pd\n",
        "import matplotlib.pyplot as plt\n",
        "import seaborn as sns\n",
        "\n",
        "from sklearn.preprocessing import MinMaxScaler\n",
        "from sklearn.dummy import DummyClassifier\n",
        "from sklearn.cluster import KMeans\n",
        "\n",
        "\n",
        "%matplotlib inline\n",
        "sns.set_palette(\"deep\", desat=.6)\n",
        "sns.set(rc={'figure.figsize':(11.7,8.27)})"
      ]
    },
    {
      "cell_type": "code",
      "execution_count": 19,
      "metadata": {
        "id": "O5Et7VupGgAE"
      },
      "outputs": [
        {
          "data": {
            "text/html": [
              "<div>\n",
              "<style scoped>\n",
              "    .dataframe tbody tr th:only-of-type {\n",
              "        vertical-align: middle;\n",
              "    }\n",
              "\n",
              "    .dataframe tbody tr th {\n",
              "        vertical-align: top;\n",
              "    }\n",
              "\n",
              "    .dataframe thead th {\n",
              "        text-align: right;\n",
              "    }\n",
              "</style>\n",
              "<table border=\"1\" class=\"dataframe\">\n",
              "  <thead>\n",
              "    <tr style=\"text-align: right;\">\n",
              "      <th></th>\n",
              "      <th>year</th>\n",
              "      <th>desplazamiento</th>\n",
              "      <th>cilindros</th>\n",
              "      <th>co2</th>\n",
              "      <th>clase_tipo</th>\n",
              "      <th>traccion_tipo</th>\n",
              "      <th>transmision_tipo</th>\n",
              "      <th>combustible_tipo</th>\n",
              "      <th>tamano_motor_tipo</th>\n",
              "      <th>consumo_tipo</th>\n",
              "      <th>co2_tipo</th>\n",
              "      <th>consumo_litros_milla</th>\n",
              "    </tr>\n",
              "  </thead>\n",
              "  <tbody>\n",
              "    <tr>\n",
              "      <th>0</th>\n",
              "      <td>1984</td>\n",
              "      <td>2.5</td>\n",
              "      <td>4.0</td>\n",
              "      <td>522.764706</td>\n",
              "      <td>Vehículos Especiales</td>\n",
              "      <td>dos</td>\n",
              "      <td>Automatica</td>\n",
              "      <td>Normal</td>\n",
              "      <td>pequeño</td>\n",
              "      <td>alto</td>\n",
              "      <td>alto</td>\n",
              "      <td>0.222671</td>\n",
              "    </tr>\n",
              "    <tr>\n",
              "      <th>1</th>\n",
              "      <td>1984</td>\n",
              "      <td>4.2</td>\n",
              "      <td>6.0</td>\n",
              "      <td>683.615385</td>\n",
              "      <td>Vehículos Especiales</td>\n",
              "      <td>dos</td>\n",
              "      <td>Automatica</td>\n",
              "      <td>Normal</td>\n",
              "      <td>grande</td>\n",
              "      <td>muy alto</td>\n",
              "      <td>muy alto</td>\n",
              "      <td>0.291185</td>\n",
              "    </tr>\n",
              "    <tr>\n",
              "      <th>2</th>\n",
              "      <td>1985</td>\n",
              "      <td>2.5</td>\n",
              "      <td>4.0</td>\n",
              "      <td>555.437500</td>\n",
              "      <td>Vehículos Especiales</td>\n",
              "      <td>dos</td>\n",
              "      <td>Automatica</td>\n",
              "      <td>Normal</td>\n",
              "      <td>pequeño</td>\n",
              "      <td>alto</td>\n",
              "      <td>alto</td>\n",
              "      <td>0.236588</td>\n",
              "    </tr>\n",
              "    <tr>\n",
              "      <th>3</th>\n",
              "      <td>1985</td>\n",
              "      <td>4.2</td>\n",
              "      <td>6.0</td>\n",
              "      <td>683.615385</td>\n",
              "      <td>Vehículos Especiales</td>\n",
              "      <td>dos</td>\n",
              "      <td>Automatica</td>\n",
              "      <td>Normal</td>\n",
              "      <td>grande</td>\n",
              "      <td>muy alto</td>\n",
              "      <td>muy alto</td>\n",
              "      <td>0.291185</td>\n",
              "    </tr>\n",
              "    <tr>\n",
              "      <th>4</th>\n",
              "      <td>1987</td>\n",
              "      <td>3.8</td>\n",
              "      <td>6.0</td>\n",
              "      <td>555.437500</td>\n",
              "      <td>Coches Medianos</td>\n",
              "      <td>dos</td>\n",
              "      <td>Automatica</td>\n",
              "      <td>Premium</td>\n",
              "      <td>grande</td>\n",
              "      <td>alto</td>\n",
              "      <td>alto</td>\n",
              "      <td>0.236588</td>\n",
              "    </tr>\n",
              "  </tbody>\n",
              "</table>\n",
              "</div>"
            ],
            "text/plain": [
              "   year  desplazamiento  cilindros         co2            clase_tipo  \\\n",
              "0  1984             2.5        4.0  522.764706  Vehículos Especiales   \n",
              "1  1984             4.2        6.0  683.615385  Vehículos Especiales   \n",
              "2  1985             2.5        4.0  555.437500  Vehículos Especiales   \n",
              "3  1985             4.2        6.0  683.615385  Vehículos Especiales   \n",
              "4  1987             3.8        6.0  555.437500       Coches Medianos   \n",
              "\n",
              "  traccion_tipo transmision_tipo combustible_tipo tamano_motor_tipo  \\\n",
              "0           dos       Automatica           Normal           pequeño   \n",
              "1           dos       Automatica           Normal            grande   \n",
              "2           dos       Automatica           Normal           pequeño   \n",
              "3           dos       Automatica           Normal            grande   \n",
              "4           dos       Automatica          Premium            grande   \n",
              "\n",
              "  consumo_tipo  co2_tipo  consumo_litros_milla  \n",
              "0         alto      alto              0.222671  \n",
              "1     muy alto  muy alto              0.291185  \n",
              "2         alto      alto              0.236588  \n",
              "3     muy alto  muy alto              0.291185  \n",
              "4         alto      alto              0.236588  "
            ]
          },
          "execution_count": 19,
          "metadata": {},
          "output_type": "execute_result"
        }
      ],
      "source": [
        "# cargar datos\n",
        "df = pd.read_csv(\"https://raw.githubusercontent.com/fralfaro/MAT281_2022/main/labs/lab_08/data/vehiculos_procesado_con_grupos.csv\", sep=\",\")\\\n",
        "       .drop(\n",
        "            [\"fabricante\",\n",
        "             \"modelo\",\n",
        "             \"transmision\",\n",
        "             \"traccion\",\n",
        "             \"clase\",\n",
        "             \"combustible\",\n",
        "             \"consumo\"],\n",
        "\n",
        "          axis=1)\n",
        "\n",
        "df.head()"
      ]
    },
    {
      "cell_type": "markdown",
      "metadata": {
        "id": "avbseBoiGgAF"
      },
      "source": [
        "En este caso, no solo se tienen datos numéricos, sino que también categóricos. Además, tenemos problemas de datos **vacíos (Nan)**. Así que para resolver este problema, seguiremos varios pasos:\n",
        "\n",
        "### 1.- Normalizar datos\n",
        "\n",
        "1. Cree un conjunto de datos con las variables numéricas, además, para cada dato vacía, rellene con el promedio asociado a esa columna. Finalmente, normalize los datos mediante el procesamiento **MinMaxScaler** de **sklearn**.\n",
        "\n",
        "2.-  Cree un conjunto de datos con las variables categóricas , además, transforme de variables categoricas a numericas ocupando el comando **get_dummies** de pandas ([referencia](https://pandas.pydata.org/pandas-docs/stable/reference/api/pandas.get_dummies.html)). Explique a grande rasgo como se realiza la codificación de variables numéricas a categóricas.\n",
        "\n",
        "3.- Junte ambos dataset en uno, llamado **df_procesado**."
      ]
    },
    {
      "cell_type": "code",
      "execution_count": 53,
      "metadata": {
        "id": "3LrSm_zbGgAF"
      },
      "outputs": [
        {
          "name": "stderr",
          "output_type": "stream",
          "text": [
            "C:\\Users\\xpelu\\AppData\\Local\\Temp\\ipykernel_13324\\1866613474.py:8: SettingWithCopyWarning: \n",
            "A value is trying to be set on a copy of a slice from a DataFrame\n",
            "\n",
            "See the caveats in the documentation: https://pandas.pydata.org/pandas-docs/stable/user_guide/indexing.html#returning-a-view-versus-a-copy\n",
            "  df_num[i].fillna(df[i].mean(), inplace=True)\n",
            "C:\\Users\\xpelu\\AppData\\Local\\Temp\\ipykernel_13324\\1866613474.py:9: SettingWithCopyWarning: \n",
            "A value is trying to be set on a copy of a slice from a DataFrame.\n",
            "Try using .loc[row_indexer,col_indexer] = value instead\n",
            "\n",
            "See the caveats in the documentation: https://pandas.pydata.org/pandas-docs/stable/user_guide/indexing.html#returning-a-view-versus-a-copy\n",
            "  df_num[numericas] = MinMaxScaler().fit_transform(df_num[numericas])\n"
          ]
        },
        {
          "data": {
            "text/html": [
              "<div>\n",
              "<style scoped>\n",
              "    .dataframe tbody tr th:only-of-type {\n",
              "        vertical-align: middle;\n",
              "    }\n",
              "\n",
              "    .dataframe tbody tr th {\n",
              "        vertical-align: top;\n",
              "    }\n",
              "\n",
              "    .dataframe thead th {\n",
              "        text-align: right;\n",
              "    }\n",
              "</style>\n",
              "<table border=\"1\" class=\"dataframe\">\n",
              "  <thead>\n",
              "    <tr style=\"text-align: right;\">\n",
              "      <th></th>\n",
              "      <th>desplazamiento</th>\n",
              "      <th>cilindros</th>\n",
              "      <th>co2</th>\n",
              "      <th>consumo_litros_milla</th>\n",
              "      <th>clase_tipo_Camionetas</th>\n",
              "      <th>clase_tipo_Coche Familiar</th>\n",
              "      <th>clase_tipo_Coches Grandes</th>\n",
              "      <th>clase_tipo_Coches Medianos</th>\n",
              "      <th>clase_tipo_Coches pequeños</th>\n",
              "      <th>clase_tipo_Deportivos</th>\n",
              "      <th>...</th>\n",
              "      <th>consumo_tipo_alto</th>\n",
              "      <th>consumo_tipo_bajo</th>\n",
              "      <th>consumo_tipo_moderado</th>\n",
              "      <th>consumo_tipo_muy alto</th>\n",
              "      <th>consumo_tipo_muy bajo</th>\n",
              "      <th>co2_tipo_alto</th>\n",
              "      <th>co2_tipo_bajo</th>\n",
              "      <th>co2_tipo_moderado</th>\n",
              "      <th>co2_tipo_muy alto</th>\n",
              "      <th>co2_tipo_muy bajo</th>\n",
              "    </tr>\n",
              "  </thead>\n",
              "  <tbody>\n",
              "    <tr>\n",
              "      <th>0</th>\n",
              "      <td>0.243590</td>\n",
              "      <td>0.142857</td>\n",
              "      <td>0.398014</td>\n",
              "      <td>0.331027</td>\n",
              "      <td>0</td>\n",
              "      <td>0</td>\n",
              "      <td>0</td>\n",
              "      <td>0</td>\n",
              "      <td>0</td>\n",
              "      <td>0</td>\n",
              "      <td>...</td>\n",
              "      <td>1</td>\n",
              "      <td>0</td>\n",
              "      <td>0</td>\n",
              "      <td>0</td>\n",
              "      <td>0</td>\n",
              "      <td>1</td>\n",
              "      <td>0</td>\n",
              "      <td>0</td>\n",
              "      <td>0</td>\n",
              "      <td>0</td>\n",
              "    </tr>\n",
              "    <tr>\n",
              "      <th>1</th>\n",
              "      <td>0.461538</td>\n",
              "      <td>0.285714</td>\n",
              "      <td>0.527672</td>\n",
              "      <td>0.475113</td>\n",
              "      <td>0</td>\n",
              "      <td>0</td>\n",
              "      <td>0</td>\n",
              "      <td>0</td>\n",
              "      <td>0</td>\n",
              "      <td>0</td>\n",
              "      <td>...</td>\n",
              "      <td>0</td>\n",
              "      <td>0</td>\n",
              "      <td>0</td>\n",
              "      <td>1</td>\n",
              "      <td>0</td>\n",
              "      <td>0</td>\n",
              "      <td>0</td>\n",
              "      <td>0</td>\n",
              "      <td>1</td>\n",
              "      <td>0</td>\n",
              "    </tr>\n",
              "    <tr>\n",
              "      <th>2</th>\n",
              "      <td>0.243590</td>\n",
              "      <td>0.142857</td>\n",
              "      <td>0.424351</td>\n",
              "      <td>0.360294</td>\n",
              "      <td>0</td>\n",
              "      <td>0</td>\n",
              "      <td>0</td>\n",
              "      <td>0</td>\n",
              "      <td>0</td>\n",
              "      <td>0</td>\n",
              "      <td>...</td>\n",
              "      <td>1</td>\n",
              "      <td>0</td>\n",
              "      <td>0</td>\n",
              "      <td>0</td>\n",
              "      <td>0</td>\n",
              "      <td>1</td>\n",
              "      <td>0</td>\n",
              "      <td>0</td>\n",
              "      <td>0</td>\n",
              "      <td>0</td>\n",
              "    </tr>\n",
              "    <tr>\n",
              "      <th>3</th>\n",
              "      <td>0.461538</td>\n",
              "      <td>0.285714</td>\n",
              "      <td>0.527672</td>\n",
              "      <td>0.475113</td>\n",
              "      <td>0</td>\n",
              "      <td>0</td>\n",
              "      <td>0</td>\n",
              "      <td>0</td>\n",
              "      <td>0</td>\n",
              "      <td>0</td>\n",
              "      <td>...</td>\n",
              "      <td>0</td>\n",
              "      <td>0</td>\n",
              "      <td>0</td>\n",
              "      <td>1</td>\n",
              "      <td>0</td>\n",
              "      <td>0</td>\n",
              "      <td>0</td>\n",
              "      <td>0</td>\n",
              "      <td>1</td>\n",
              "      <td>0</td>\n",
              "    </tr>\n",
              "    <tr>\n",
              "      <th>4</th>\n",
              "      <td>0.410256</td>\n",
              "      <td>0.285714</td>\n",
              "      <td>0.424351</td>\n",
              "      <td>0.360294</td>\n",
              "      <td>0</td>\n",
              "      <td>0</td>\n",
              "      <td>0</td>\n",
              "      <td>1</td>\n",
              "      <td>0</td>\n",
              "      <td>0</td>\n",
              "      <td>...</td>\n",
              "      <td>1</td>\n",
              "      <td>0</td>\n",
              "      <td>0</td>\n",
              "      <td>0</td>\n",
              "      <td>0</td>\n",
              "      <td>1</td>\n",
              "      <td>0</td>\n",
              "      <td>0</td>\n",
              "      <td>0</td>\n",
              "      <td>0</td>\n",
              "    </tr>\n",
              "  </tbody>\n",
              "</table>\n",
              "<p>5 rows × 35 columns</p>\n",
              "</div>"
            ],
            "text/plain": [
              "   desplazamiento  cilindros       co2  consumo_litros_milla  \\\n",
              "0        0.243590   0.142857  0.398014              0.331027   \n",
              "1        0.461538   0.285714  0.527672              0.475113   \n",
              "2        0.243590   0.142857  0.424351              0.360294   \n",
              "3        0.461538   0.285714  0.527672              0.475113   \n",
              "4        0.410256   0.285714  0.424351              0.360294   \n",
              "\n",
              "   clase_tipo_Camionetas  clase_tipo_Coche Familiar  \\\n",
              "0                      0                          0   \n",
              "1                      0                          0   \n",
              "2                      0                          0   \n",
              "3                      0                          0   \n",
              "4                      0                          0   \n",
              "\n",
              "   clase_tipo_Coches Grandes  clase_tipo_Coches Medianos  \\\n",
              "0                          0                           0   \n",
              "1                          0                           0   \n",
              "2                          0                           0   \n",
              "3                          0                           0   \n",
              "4                          0                           1   \n",
              "\n",
              "   clase_tipo_Coches pequeños  clase_tipo_Deportivos  ...  consumo_tipo_alto  \\\n",
              "0                           0                      0  ...                  1   \n",
              "1                           0                      0  ...                  0   \n",
              "2                           0                      0  ...                  1   \n",
              "3                           0                      0  ...                  0   \n",
              "4                           0                      0  ...                  1   \n",
              "\n",
              "   consumo_tipo_bajo  consumo_tipo_moderado  consumo_tipo_muy alto  \\\n",
              "0                  0                      0                      0   \n",
              "1                  0                      0                      1   \n",
              "2                  0                      0                      0   \n",
              "3                  0                      0                      1   \n",
              "4                  0                      0                      0   \n",
              "\n",
              "   consumo_tipo_muy bajo  co2_tipo_alto  co2_tipo_bajo  co2_tipo_moderado  \\\n",
              "0                      0              1              0                  0   \n",
              "1                      0              0              0                  0   \n",
              "2                      0              1              0                  0   \n",
              "3                      0              0              0                  0   \n",
              "4                      0              1              0                  0   \n",
              "\n",
              "   co2_tipo_muy alto  co2_tipo_muy bajo  \n",
              "0                  0                  0  \n",
              "1                  1                  0  \n",
              "2                  0                  0  \n",
              "3                  1                  0  \n",
              "4                  0                  0  \n",
              "\n",
              "[5 rows x 35 columns]"
            ]
          },
          "execution_count": 53,
          "metadata": {},
          "output_type": "execute_result"
        }
      ],
      "source": [
        "numericas = [\"desplazamiento\", \"cilindros\", \"co2\", \"consumo_litros_milla\"]\n",
        "categoricas = []\n",
        "for i in list(df.columns):\n",
        "    if i not in numericas and i != \"year\":\n",
        "        categoricas.append(i)\n",
        "df_num = df[numericas]\n",
        "for i in numericas:\n",
        "    df_num[i].fillna(df[i].mean(), inplace=True)\n",
        "df_num[numericas] = MinMaxScaler().fit_transform(df_num[numericas])\n",
        "df_cat = df[categoricas]\n",
        "df_cat = pd.get_dummies(df_cat, columns=categoricas)\n",
        "#se crean nuevas columnas derivadas de las columnas originales y se les asigna un 0 si no es parte de esa categoria y un 1 si lo es.\n",
        "df_procesado = pd.concat([df_num, df_cat], axis = 1)\n",
        "df_procesado.head()"
      ]
    },
    {
      "cell_type": "markdown",
      "metadata": {
        "id": "KthYrlTvGgAG"
      },
      "source": [
        "### 2.- Realizar ajuste mediante kmeans\n",
        "\n",
        "Una vez depurado el conjunto de datos, es momento de aplicar el algoritmo de **kmeans**.\n",
        "\n",
        "1. Ajuste el modelo de **kmeans** sobre el conjunto de datos, con un total de **8 clusters**.\n",
        "2. Asociar a cada individuo el correspondiente cluster y calcular valor de los centroides de cada cluster.\n",
        "3. Realizar un resumen de las principales cualidades de cada cluster. Para  esto debe calcular (para cluster) las siguientes medidas de resumen:\n",
        "    * Valor promedio de las variables numérica\n",
        "    * Moda para las variables numericas"
      ]
    },
    {
      "cell_type": "code",
      "execution_count": 54,
      "metadata": {
        "id": "sOoM3g-4GgAH"
      },
      "outputs": [],
      "source": [
        "kmeans = KMeans().fit(df_procesado) #por defecto son 8"
      ]
    },
    {
      "cell_type": "markdown",
      "metadata": {
        "id": "QJ5-hlPuGgAH"
      },
      "source": [
        "### 3.- Elegir Número de cluster\n",
        "\n",
        "Estime mediante la **regla del codo**, el número de cluster apropiados para el caso.\n",
        "Para efectos prácticos, eliga la siguiente secuencia como número de clusters a comparar:\n",
        "\n",
        "$$[5, 10, 20, 30, 50, 75, 100, 200, 300]$$\n",
        "\n",
        "Una vez realizado el gráfico, saque sus propias conclusiones del caso."
      ]
    },
    {
      "cell_type": "code",
      "execution_count": null,
      "metadata": {
        "id": "GU0Af5JBGgAI"
      },
      "outputs": [],
      "source": [
        "# FIXME"
      ]
    },
    {
      "cell_type": "markdown",
      "metadata": {
        "id": "LzcikuYlGgAI"
      },
      "source": [
        "Al observar el gráfico resultante, se pueden obtener conclusiones sobre el número apropiado de clusters. La regla del codo sugiere elegir el número de clusters donde la reducción en la inercia se estabiliza significativamente. En otras palabras, se busca el punto en el gráfico donde la curva de inercia comienza a aplanarse o forma un codo."
      ]
    },
    {
      "cell_type": "markdown",
      "metadata": {
        "id": "CVN3q6zsGgAJ"
      },
      "source": [
        "## II.- Problema 02\n",
        "\n",
        "<img src=\"https://live.staticflickr.com/7866/47075467621_85ab810139_c.jpg\" align=\"center\"/>\n",
        "\n",
        "Para el conjunto de datos de **Iris**, se pide realizar una reducción de dimensionalidad ocupando las técnicas de PCA y TSNE (vistas en clases).\n",
        "\n"
      ]
    },
    {
      "cell_type": "code",
      "execution_count": null,
      "metadata": {
        "id": "8czj7jX7GgAJ"
      },
      "outputs": [],
      "source": [
        "import pandas as pd\n",
        "from sklearn.datasets import load_iris\n",
        "from sklearn.decomposition import PCA\n",
        "from sklearn.manifold import TSNE\n",
        "\n",
        "import matplotlib.pyplot as plt\n",
        "from matplotlib.colors import ListedColormap\n",
        "from mpl_toolkits.mplot3d import Axes3D\n",
        "import seaborn as sns"
      ]
    },
    {
      "cell_type": "code",
      "execution_count": null,
      "metadata": {
        "id": "Q9yiRKH7GgAK"
      },
      "outputs": [],
      "source": [
        "dataset = load_iris()\n",
        "\n",
        "features = ['sepal_length', 'sepal_width', 'petal_length', 'petal_width']\n",
        "target = 'species'\n",
        "iris = pd.DataFrame(\n",
        "    dataset.data,\n",
        "    columns=features)\n",
        "\n",
        "iris['species'] = dataset.target\n",
        "iris.head()"
      ]
    },
    {
      "cell_type": "markdown",
      "metadata": {
        "id": "UvPiB-_6GgAK"
      },
      "source": [
        "El objetivo es aplicar ambos algoritmos de la siguiente manera:\n",
        "\n",
        "* Análisis detallado algoritma PCA (tablas, gráficos, etc.)\n",
        "* Análisis detallado algoritma TSNE (tablas, gráficos, etc.)\n",
        "* Comparar ambos algoritmos (conclusiones del caso)"
      ]
    },
    {
      "cell_type": "code",
      "execution_count": null,
      "metadata": {
        "id": "FlqaGJN0GgAK"
      },
      "outputs": [],
      "source": [
        "# FIXME"
      ]
    }
  ],
  "metadata": {
    "colab": {
      "provenance": []
    },
    "kernelspec": {
      "display_name": "Python 3 (ipykernel)",
      "language": "python",
      "name": "python3"
    },
    "language_info": {
      "codemirror_mode": {
        "name": "ipython",
        "version": 3
      },
      "file_extension": ".py",
      "mimetype": "text/x-python",
      "name": "python",
      "nbconvert_exporter": "python",
      "pygments_lexer": "ipython3",
      "version": "3.9.13"
    }
  },
  "nbformat": 4,
  "nbformat_minor": 0
}
